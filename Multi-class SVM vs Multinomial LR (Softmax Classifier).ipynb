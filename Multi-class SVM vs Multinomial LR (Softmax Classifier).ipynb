{
 "cells": [
  {
   "cell_type": "markdown",
   "metadata": {},
   "source": [
    "### Multi-class SVM Loss"
   ]
  },
  {
   "cell_type": "code",
   "execution_count": 1,
   "metadata": {
    "collapsed": true
   },
   "outputs": [],
   "source": [
    "classes = ['cat', 'car', 'frog']"
   ]
  },
  {
   "cell_type": "markdown",
   "metadata": {},
   "source": [
    "Let's say we have an image which is passed into the model we built and we want to see how well our model did in predicting that the image is cat or car or frog.\n",
    "\n",
    "for example, *Image-1* is a **cat** and our model predicted the following scores [3.2, 5.1, -1.7]. Clearly, our model got this wrong as the  **car** score is more than the **cat** score which means that our model thinks this Image-1 is a car not a cat. \n",
    "\n",
    "what we want to do is know **by how much** did or model got the prediction wrong so that we can be able to learn from this mistake and adjusts our weight parameters. \n",
    "\n",
    "What we want to be able to achieve is a **loss of zero**, where our model correctly classifies any image we tell it to predict."
   ]
  },
  {
   "cell_type": "code",
   "execution_count": 3,
   "metadata": {
    "collapsed": false
   },
   "outputs": [],
   "source": [
    "import numpy as np"
   ]
  },
  {
   "cell_type": "code",
   "execution_count": 41,
   "metadata": {
    "collapsed": true
   },
   "outputs": [],
   "source": [
    "cat = np.array([3.2, 5.1, -1.7]) # cat-class-score=3.2, car-class-score=5.7, frog-class-score=-1.7  #incorrect"
   ]
  },
  {
   "cell_type": "code",
   "execution_count": 6,
   "metadata": {
    "collapsed": true
   },
   "outputs": [],
   "source": [
    "car = np.array([1.3, 4.9, 2.0])  # cat-class-score=1.3, car-class-score=4.9, frog-class-score=-2.0  #correct"
   ]
  },
  {
   "cell_type": "code",
   "execution_count": 7,
   "metadata": {
    "collapsed": true
   },
   "outputs": [],
   "source": [
    "frog = np.array([2.2, 2.5, -3.1]) # cat-class-score=2.2, car-class-score=2.5, frog-class-score=-3.1 #very incorrect"
   ]
  },
  {
   "cell_type": "markdown",
   "metadata": {},
   "source": [
    "#### how multi-class svm loss works is that it substracts the true class score(Syi) from each of the class score(Sj) then finds the maximum between 0 and the substracted value. The total loss is a sum of all the individual loss.\n",
    "\n",
    "lj = max(0, Sj - Syi + 1)  <br>\n",
    "Li = sum(l1 + l2 + l3 + ... + lj) The 1 added is just a safety margin"
   ]
  },
  {
   "cell_type": "code",
   "execution_count": 10,
   "metadata": {
    "collapsed": false
   },
   "outputs": [
    {
     "data": {
      "text/plain": [
       "(2.8999999999999995, 0)"
      ]
     },
     "execution_count": 10,
     "metadata": {},
     "output_type": "execute_result"
    }
   ],
   "source": [
    "loss_cat_car = max(0, 5.1-3.2+1) # the correct class is cat which has score of 3.2 \n",
    "loss_cat_frog = max(0, -1.7-3.2+1)\n",
    "loss_cat_car, loss_cat_frog"
   ]
  },
  {
   "cell_type": "markdown",
   "metadata": {},
   "source": [
    "We can see that for the fist image (cat), it incurred a loss of 2.9 from car"
   ]
  },
  {
   "cell_type": "code",
   "execution_count": 13,
   "metadata": {
    "collapsed": false
   },
   "outputs": [
    {
     "data": {
      "text/plain": [
       "2.8999999999999995"
      ]
     },
     "execution_count": 13,
     "metadata": {},
     "output_type": "execute_result"
    }
   ],
   "source": [
    "total_loss_cat = loss_cat_car + loss_cat_frog\n",
    "total_loss_cat #for class cat, the total cost of getting is answer wrong is 2.9 therefore it got the answer wrong"
   ]
  },
  {
   "cell_type": "code",
   "execution_count": 14,
   "metadata": {
    "collapsed": false
   },
   "outputs": [
    {
     "data": {
      "text/plain": [
       "(0, 0)"
      ]
     },
     "execution_count": 14,
     "metadata": {},
     "output_type": "execute_result"
    }
   ],
   "source": [
    "loss_car_cat = max(0, 1.3-4.9+1) # the correct class is cat which has score of 3.2 \n",
    "loss_car_frog = max(0, 2.0-4.9+1)\n",
    "loss_car_cat, loss_car_frog"
   ]
  },
  {
   "cell_type": "code",
   "execution_count": 25,
   "metadata": {
    "collapsed": false
   },
   "outputs": [
    {
     "data": {
      "text/plain": [
       "0"
      ]
     },
     "execution_count": 25,
     "metadata": {},
     "output_type": "execute_result"
    }
   ],
   "source": [
    "total_loss_car = loss_car_cat + loss_car_frog\n",
    "total_loss_car #for class car, the total cost of getting is answer wrong is 0 therefore it got the answer right"
   ]
  },
  {
   "cell_type": "code",
   "execution_count": 26,
   "metadata": {
    "collapsed": false
   },
   "outputs": [
    {
     "data": {
      "text/plain": [
       "(6.300000000000001, 6.6)"
      ]
     },
     "execution_count": 26,
     "metadata": {},
     "output_type": "execute_result"
    }
   ],
   "source": [
    "loss_frog_cat = max(0, 2.2--3.1+1) # the correct class is cat which has score of 3.2 \n",
    "loss_frog_car = max(0, 2.5--3.1+1)\n",
    "loss_frog_cat, loss_frog_car"
   ]
  },
  {
   "cell_type": "code",
   "execution_count": 27,
   "metadata": {
    "collapsed": false
   },
   "outputs": [
    {
     "data": {
      "text/plain": [
       "12.9"
      ]
     },
     "execution_count": 27,
     "metadata": {},
     "output_type": "execute_result"
    }
   ],
   "source": [
    "total_loss_frog = loss_frog_cat + loss_frog_car\n",
    "total_loss_frog #for class frog, the total cost of getting is answer wrong is 12.9 therefore it got the answer very wrong"
   ]
  },
  {
   "cell_type": "code",
   "execution_count": 29,
   "metadata": {
    "collapsed": false
   },
   "outputs": [
    {
     "data": {
      "text/plain": [
       "4.2999999999999998"
      ]
     },
     "execution_count": 29,
     "metadata": {},
     "output_type": "execute_result"
    }
   ],
   "source": [
    "final_model_svm_loss = (total_loss_cat + total_loss_car + total_loss_frog) / 3\n",
    "final_model_svm_loss"
   ]
  },
  {
   "cell_type": "markdown",
   "metadata": {},
   "source": [
    "### Multinomial Logistic Regression or Softmax Classifier\n",
    "How Softmax works is a little different from SVM loss. Softmax finds the exponential of individual score, then divides it with the sum of all the individual exponent to normalize the data so that the probability is between 0 and 1 and the total sum is 1\n",
    "\n",
    "To find the loss, you take the -log(probabity of the true class)"
   ]
  },
  {
   "cell_type": "markdown",
   "metadata": {},
   "source": [
    "prob = exp(Sk) / sum(exp(Sk)) where Sk is individual score"
   ]
  },
  {
   "cell_type": "code",
   "execution_count": 42,
   "metadata": {
    "collapsed": false
   },
   "outputs": [
    {
     "data": {
      "text/plain": [
       "array([  24.5325302 ,  164.0219073 ,    0.18268352])"
      ]
     },
     "execution_count": 42,
     "metadata": {},
     "output_type": "execute_result"
    }
   ],
   "source": [
    "cat_exp = np.exp(cat)\n",
    "car_exp = np.exp(car)\n",
    "frog_exp = np.exp(frog)\n",
    "\n",
    "cat_exp"
   ]
  },
  {
   "cell_type": "code",
   "execution_count": 43,
   "metadata": {
    "collapsed": false
   },
   "outputs": [
    {
     "data": {
      "text/plain": [
       "145.34813245148541"
      ]
     },
     "execution_count": 43,
     "metadata": {},
     "output_type": "execute_result"
    }
   ],
   "source": [
    "cat_exp_sum = np.sum(cat_exp)\n",
    "car_exp_sum = np.sum(car_exp)\n",
    "frog_exp_sum = np.sum(frog_exp)\n",
    "car_exp_sum"
   ]
  },
  {
   "cell_type": "code",
   "execution_count": 44,
   "metadata": {
    "collapsed": false
   },
   "outputs": [
    {
     "data": {
      "text/plain": [
       "(array([ 0.12998254,  0.86904954,  0.00096793]),\n",
       " array([ 0.02524488,  0.92391816,  0.05083695]))"
      ]
     },
     "execution_count": 44,
     "metadata": {},
     "output_type": "execute_result"
    }
   ],
   "source": [
    "probs_in_cat_class = cat_exp / cat_exp_sum\n",
    "probs_in_car_class = car_exp / car_exp_sum\n",
    "probs_in_frog_class = frog_exp / frog_exp_sum\n",
    "probs_in_cat_class, probs_in_car_class"
   ]
  },
  {
   "cell_type": "markdown",
   "metadata": {},
   "source": [
    "When we gave our model a cat image, it predicted that it was cat with a probabilty of 13% - very low while it predicted that it was car with a probabilty of 86.9% - :( our model got it wrong\n",
    "\n",
    "while for when we gave it a car image, it predicted that it was car and with a probability of 92.3%\n",
    "\n",
    "These probabilities should sum to 1"
   ]
  },
  {
   "cell_type": "code",
   "execution_count": 45,
   "metadata": {
    "collapsed": false
   },
   "outputs": [
    {
     "data": {
      "text/plain": [
       "0.99999999999999989"
      ]
     },
     "execution_count": 45,
     "metadata": {},
     "output_type": "execute_result"
    }
   ],
   "source": [
    "np.sum(probs_in_cat_class)"
   ]
  },
  {
   "cell_type": "markdown",
   "metadata": {},
   "source": [
    "We've successfully normalized the class scores"
   ]
  },
  {
   "cell_type": "code",
   "execution_count": 46,
   "metadata": {
    "collapsed": false
   },
   "outputs": [
    {
     "data": {
      "text/plain": [
       "['cat', 'car', 'frog']"
      ]
     },
     "execution_count": 46,
     "metadata": {},
     "output_type": "execute_result"
    }
   ],
   "source": [
    "classes"
   ]
  },
  {
   "cell_type": "code",
   "execution_count": 47,
   "metadata": {
    "collapsed": false
   },
   "outputs": [
    {
     "data": {
      "text/plain": [
       "0.88611498398398014"
      ]
     },
     "execution_count": 47,
     "metadata": {},
     "output_type": "execute_result"
    }
   ],
   "source": [
    "loss_of_cat = -np.log10(probs_in_cat_class[0])\n",
    "loss_of_cat"
   ]
  },
  {
   "cell_type": "code",
   "execution_count": 48,
   "metadata": {
    "collapsed": false
   },
   "outputs": [
    {
     "data": {
      "text/plain": [
       "0.034366494655124383"
      ]
     },
     "execution_count": 48,
     "metadata": {},
     "output_type": "execute_result"
    }
   ],
   "source": [
    "loss_of_car = -np.log10(probs_in_car_class[1])\n",
    "loss_of_car"
   ]
  },
  {
   "cell_type": "code",
   "execution_count": 39,
   "metadata": {
    "collapsed": false
   },
   "outputs": [
    {
     "data": {
      "text/plain": [
       "2.6737240766459403"
      ]
     },
     "execution_count": 39,
     "metadata": {},
     "output_type": "execute_result"
    }
   ],
   "source": [
    "loss_of_frog = -np.log10(probs_in_frog_class[2])\n",
    "loss_of_frog"
   ]
  },
  {
   "cell_type": "code",
   "execution_count": 49,
   "metadata": {
    "collapsed": false
   },
   "outputs": [
    {
     "data": {
      "text/plain": [
       "1.1980685184283482"
      ]
     },
     "execution_count": 49,
     "metadata": {},
     "output_type": "execute_result"
    }
   ],
   "source": [
    "final_model_softmax_loss = ( loss_of_cat + loss_of_car + loss_of_frog ) / 3\n",
    "final_model_softmax_loss"
   ]
  },
  {
   "cell_type": "code",
   "execution_count": null,
   "metadata": {
    "collapsed": true
   },
   "outputs": [],
   "source": []
  }
 ],
 "metadata": {
  "kernelspec": {
   "display_name": "Python 3",
   "language": "python",
   "name": "python3"
  },
  "language_info": {
   "codemirror_mode": {
    "name": "ipython",
    "version": 3
   },
   "file_extension": ".py",
   "mimetype": "text/x-python",
   "name": "python",
   "nbconvert_exporter": "python",
   "pygments_lexer": "ipython3",
   "version": "3.6.0"
  }
 },
 "nbformat": 4,
 "nbformat_minor": 2
}
